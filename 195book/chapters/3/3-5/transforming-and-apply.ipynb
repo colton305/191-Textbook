{
 "cells": [
  {
   "cell_type": "markdown",
   "metadata": {},
   "source": [
    "# **Transforming DataFrames**\n",
    "<h4>Or, how I learned to stop worrying and love df.apply()<h4>"
   ]
  }
 ],
 "metadata": {
  "language_info": {
   "name": "python"
  }
 },
 "nbformat": 4,
 "nbformat_minor": 2
}
